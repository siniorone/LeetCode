{
 "cells": [
  {
   "cell_type": "code",
   "execution_count": 1,
   "metadata": {},
   "outputs": [],
   "source": [
    "class Solution:\n",
    "    \"\"\"\n",
    "    class Solution can be used to solve this problem.\n",
    "    \"\"\"\n",
    "    def reverse(self, x: int) -> int:\n",
    "        \"\"\"\n",
    "        This method is used to reverse the integer.\n",
    "        \"\"\"\n",
    "        # if x is negative, assume it is a positive integer and reverse it\n",
    "        # then add the negative sign back to the reversed integer\n",
    "        if x < 0:\n",
    "            return -self.reverse(-x)\n",
    "        \n",
    "        output = 0\n",
    "        while x:\n",
    "            # multiply output by 10 and add the last digit of x\n",
    "            # get the last digit of x and add it to the output\n",
    "            output = output * 10 + x % 10\n",
    "            # remove the last digit of x\n",
    "            x //= 10\n",
    "        # if the output is greater than the maximum integer, return 0    \n",
    "        return output if output <= 0x80000000 else 0"
   ]
  },
  {
   "cell_type": "code",
   "execution_count": 2,
   "metadata": {},
   "outputs": [
    {
     "data": {
      "text/plain": [
       "321"
      ]
     },
     "execution_count": 2,
     "metadata": {},
     "output_type": "execute_result"
    }
   ],
   "source": [
    "# Example 1:\n",
    "Solution().reverse(123)"
   ]
  },
  {
   "cell_type": "code",
   "execution_count": 3,
   "metadata": {},
   "outputs": [
    {
     "data": {
      "text/plain": [
       "-321"
      ]
     },
     "execution_count": 3,
     "metadata": {},
     "output_type": "execute_result"
    }
   ],
   "source": [
    "# Example 2:\n",
    "Solution().reverse(-123)"
   ]
  },
  {
   "cell_type": "code",
   "execution_count": 4,
   "metadata": {},
   "outputs": [
    {
     "data": {
      "text/plain": [
       "21"
      ]
     },
     "execution_count": 4,
     "metadata": {},
     "output_type": "execute_result"
    }
   ],
   "source": [
    "# Example 3:\n",
    "Solution().reverse(120)"
   ]
  }
 ],
 "metadata": {
  "interpreter": {
   "hash": "133c87b6b8812a3a4a380e98a665449b9260b0e8d0510f3319cdf6c565fe871e"
  },
  "kernelspec": {
   "display_name": "Python 3.9.7 ('scrap')",
   "language": "python",
   "name": "python3"
  },
  "language_info": {
   "codemirror_mode": {
    "name": "ipython",
    "version": 3
   },
   "file_extension": ".py",
   "mimetype": "text/x-python",
   "name": "python",
   "nbconvert_exporter": "python",
   "pygments_lexer": "ipython3",
   "version": "3.9.7"
  },
  "orig_nbformat": 4
 },
 "nbformat": 4,
 "nbformat_minor": 2
}
