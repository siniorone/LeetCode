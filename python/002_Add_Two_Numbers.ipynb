{
 "cells": [
  {
   "cell_type": "code",
   "execution_count": 6,
   "metadata": {},
   "outputs": [],
   "source": [
    "from typing import Optional\n",
    "\n",
    "\n",
    "class ListNode:\n",
    "    \"\"\"\n",
    "    This Class is used to create a linked list from a integer value\n",
    "    as value of the node and reference to the next node as next.\n",
    "    \"\"\"\n",
    "    # __init__ method is used to initialize the value and next of the node\n",
    "    def __init__(self, val=0, next=None):\n",
    "        self.val = val\n",
    "        self.next = next\n",
    "\n",
    "    # repr method is used to print the value of the node as list\n",
    "    def __repr__(self):\n",
    "        x = ListNode(self.val, self.next)\n",
    "        node_values = []\n",
    "        while True:\n",
    "            node_values.append(x.val)\n",
    "            if x.next is None:\n",
    "                break\n",
    "            x = x.next\n",
    "        return str(node_values)"
   ]
  },
  {
   "cell_type": "code",
   "execution_count": 7,
   "metadata": {},
   "outputs": [],
   "source": [
    "class Solution:\n",
    "    \"\"\"\n",
    "    This class contains the solution to the problem 002_AddivisorTwo_Numbers.\n",
    "    \"\"\"\n",
    "    def addTwoNumbers(self, l1: Optional[ListNode], l2: Optional[ListNode]) -> Optional[ListNode]:\n",
    "        \"\"\"\n",
    "        This method is used to add two numbers represented by linked list.\n",
    "        \"\"\"\n",
    "        divisor = 0\n",
    "        # Store the result of the addition in a list\n",
    "        node_values = []\n",
    "        # Iterate over the linked list\n",
    "        while True:\n",
    "            # sum of items from each node plus the divisor\n",
    "            sum_ = l1.val + l2.val + divisor\n",
    "            # check if the sum is greater than 10 and if so, store the divisor into a variable\n",
    "            divisor = sum_ // 10\n",
    "            # store the final result of the sum for each item in a linked list\n",
    "            remainder = sum_ % 10\n",
    "            # append the result to the list\n",
    "            node_values.append(remainder)\n",
    "            # Compare the next node of each linked list\n",
    "            # if the next node for both linked list is not None, then continue the iteration\n",
    "            if l1.next is not None and l2.next is not None:\n",
    "                l1 = l1.next\n",
    "                l2 = l2.next\n",
    "            # if the next node for one of the linked list is None,\n",
    "            # and the other is not None, then continue the iteration\n",
    "            # and assume the next node of the other linked list is 0\n",
    "            elif l2.next is None and l1.next is not None:\n",
    "                l2 = ListNode(0)\n",
    "                l1 = l1.next\n",
    "            elif l1.next is None and l2.next is not None:\n",
    "                l1 = ListNode(0)\n",
    "                l2 = l2.next\n",
    "            # if the next node for both linked list is None, then check the divisor\n",
    "            # if the divisor is ZERO, then break the iteration\n",
    "            elif divisor == 0:\n",
    "                break\n",
    "            # if the divisor is not ZERO, then add the last value to node_values\n",
    "            else:\n",
    "                node_values.append(divisor)\n",
    "                break\n",
    "        # As we store the result in a list, we need to convert the list to a linked list\n",
    "        # But our list is in reverse order, so we need to reverse the list\n",
    "        # Reverse the list to get the correct order of the Node values\n",
    "        node_values = node_values[-1::-1]\n",
    "        # Create a first node with the first value of the list\n",
    "        output = ListNode(node_values[0])\n",
    "        # Iterate over the list and create a node for each item\n",
    "        for node in node_values[1:]:\n",
    "            output = ListNode(node, output)\n",
    "        # Return the output as a linked list\n",
    "        return output\n",
    "\n"
   ]
  },
  {
   "cell_type": "code",
   "execution_count": 8,
   "metadata": {},
   "outputs": [
    {
     "data": {
      "text/plain": [
       "[7, 0, 8]"
      ]
     },
     "execution_count": 8,
     "metadata": {},
     "output_type": "execute_result"
    }
   ],
   "source": [
    "# Example 1\n",
    "# x = [2,4,3]\n",
    "x = ListNode(2, ListNode(4, ListNode(3))) # [2,4,3]\n",
    "# y = [5,6,4]\n",
    "y = ListNode(5, ListNode(6, ListNode(4))) # [5,6,4]\n",
    "# Addition of two numbers represented by linked lists\n",
    "# [2,4,3] + [5,6,4] = [7,0,8]\n",
    "Solution().addTwoNumbers(x, y)\n"
   ]
  },
  {
   "cell_type": "code",
   "execution_count": 9,
   "metadata": {},
   "outputs": [
    {
     "data": {
      "text/plain": [
       "[0]"
      ]
     },
     "execution_count": 9,
     "metadata": {},
     "output_type": "execute_result"
    }
   ],
   "source": [
    "# Example 2\n",
    "# x = [0]\n",
    "x = ListNode(0) # [0]\n",
    "# y = [0]\n",
    "y = ListNode(0) # [0]\n",
    "# Addition of two numbers represented by linked lists\n",
    "# [0] + [0] = [0]\n",
    "Solution().addTwoNumbers(x, y)"
   ]
  },
  {
   "cell_type": "code",
   "execution_count": 10,
   "metadata": {},
   "outputs": [
    {
     "data": {
      "text/plain": [
       "[8, 9, 9, 9, 0, 0, 0, 1]"
      ]
     },
     "execution_count": 10,
     "metadata": {},
     "output_type": "execute_result"
    }
   ],
   "source": [
    "# Example 3\n",
    "# x = [9,9,9,9]\n",
    "x = ListNode(9, ListNode(9, ListNode(9, ListNode(9)))) \n",
    "# y = [9,9,9,9,9,9,9]\n",
    "y = ListNode(9, ListNode(9, ListNode(9, ListNode(9, \n",
    "    ListNode(9, ListNode(9, ListNode(9)))))))\n",
    "# Addition of two numbers represented by linked lists\n",
    "# [9,9,9,9] + [9,9,9,9,9,9,9] = [8,9,9,9,0,0,0,1]\n",
    "Solution().addTwoNumbers(x, y)"
   ]
  },
  {
   "cell_type": "code",
   "execution_count": null,
   "metadata": {},
   "outputs": [],
   "source": []
  }
 ],
 "metadata": {
  "interpreter": {
   "hash": "133c87b6b8812a3a4a380e98a665449b9260b0e8d0510f3319cdf6c565fe871e"
  },
  "kernelspec": {
   "display_name": "Python 3.9.7 ('scrap': conda)",
   "language": "python",
   "name": "python3"
  },
  "language_info": {
   "codemirror_mode": {
    "name": "ipython",
    "version": 3
   },
   "file_extension": ".py",
   "mimetype": "text/x-python",
   "name": "python",
   "nbconvert_exporter": "python",
   "pygments_lexer": "ipython3",
   "version": "3.9.7"
  },
  "orig_nbformat": 4
 },
 "nbformat": 4,
 "nbformat_minor": 2
}
