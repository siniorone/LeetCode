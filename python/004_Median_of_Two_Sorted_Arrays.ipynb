{
 "cells": [
  {
   "cell_type": "code",
   "execution_count": 1,
   "metadata": {},
   "outputs": [],
   "source": [
    "from typing import List\n",
    "\n",
    "\n",
    "class Solution:\n",
    "    \"\"\"\n",
    "    This class contains solutions to Leetcode problem number 4.\n",
    "    \"\"\"\n",
    "    def findMedianSortedArrays(self, nums1: List[int], nums2: List[int]) -> float:\n",
    "        \"\"\"\n",
    "        This method returns the median of two sorted arrays.\n",
    "        \"\"\"\n",
    "        # find the length of each array\n",
    "        m = len(nums1)\n",
    "        n = len(nums2)\n",
    "        # find the length of the combined array\n",
    "        sum_ = n + m\n",
    "        # find the divisor and the remainder of the combined array length divided by 2\n",
    "        d = sum_ // 2\n",
    "        r = sum_ % 2\n",
    "        # Merge two arrays\n",
    "        nums1.extend(nums2)\n",
    "        # sort the merged array\n",
    "        nums1 = sorted(nums1)\n",
    "        # if the combined array is odd, return the middle element\n",
    "        if r:\n",
    "            return nums1[d]\n",
    "        # if the combined array is even, return the average of the two middle elements\n",
    "        else:\n",
    "            return((nums1[d-1]+nums1[d])/2)\n",
    "\n"
   ]
  },
  {
   "cell_type": "code",
   "execution_count": 2,
   "metadata": {},
   "outputs": [
    {
     "data": {
      "text/plain": [
       "2"
      ]
     },
     "execution_count": 2,
     "metadata": {},
     "output_type": "execute_result"
    }
   ],
   "source": [
    "# Example 1:\n",
    "Solution().findMedianSortedArrays([1, 3], [2])"
   ]
  },
  {
   "cell_type": "code",
   "execution_count": 3,
   "metadata": {},
   "outputs": [
    {
     "data": {
      "text/plain": [
       "2.5"
      ]
     },
     "execution_count": 3,
     "metadata": {},
     "output_type": "execute_result"
    }
   ],
   "source": [
    "# Example 2:\n",
    "Solution().findMedianSortedArrays([1, 2], [3, 4])"
   ]
  }
 ],
 "metadata": {
  "interpreter": {
   "hash": "4ad2f88a263a6a2b65764c2632477ad9f3007975486c2226f2c86513342d2394"
  },
  "kernelspec": {
   "display_name": "Python 3.9.7 ('spark')",
   "language": "python",
   "name": "python3"
  },
  "language_info": {
   "codemirror_mode": {
    "name": "ipython",
    "version": 3
   },
   "file_extension": ".py",
   "mimetype": "text/x-python",
   "name": "python",
   "nbconvert_exporter": "python",
   "pygments_lexer": "ipython3",
   "version": "3.9.7"
  },
  "orig_nbformat": 4
 },
 "nbformat": 4,
 "nbformat_minor": 2
}
