{
 "cells": [
  {
   "cell_type": "code",
   "execution_count": 1,
   "metadata": {},
   "outputs": [],
   "source": [
    "from typing import List\n",
    "\n",
    "\n",
    "class Solution:\n",
    "    \"\"\"\n",
    "    This Class is the solution of the problem.\n",
    "    \"\"\"\n",
    "    def subsets(self, nums: List[int]) -> List[List[int]]:\n",
    "        \"\"\"\n",
    "        This method returns all the subsets of the given set.\n",
    "        \"\"\"\n",
    "        # Store the result in a list named result.\n",
    "        result = []\n",
    "        # Iterate over the binary generator.\n",
    "        for bin in self.binary_generator(len(nums)):\n",
    "            # Create subset based on the binary string.\n",
    "            subset = [nums[-i-1] for i, b in enumerate(bin) if b == \"1\"]\n",
    "            # Append the subset to the result.\n",
    "            result.append(subset)\n",
    "        # Return the result.\n",
    "        return result\n",
    "\n",
    "    def binary_generator(self: object, digits: int) -> List[str]:\n",
    "        \"\"\"\n",
    "        This Method returns a Generator of binary strings form 0 to 2^digits.\n",
    "        \"\"\"\n",
    "        for i in range(2**digits):\n",
    "            yield f\"{i:b}\".zfill(digits)\n"
   ]
  },
  {
   "cell_type": "code",
   "execution_count": 2,
   "metadata": {},
   "outputs": [
    {
     "data": {
      "text/plain": [
       "[[], [1], [2], [2, 1], [3], [3, 1], [3, 2], [3, 2, 1]]"
      ]
     },
     "execution_count": 2,
     "metadata": {},
     "output_type": "execute_result"
    }
   ],
   "source": [
    "# Example 1:\n",
    "Solution().subsets([1,2,3])"
   ]
  },
  {
   "cell_type": "code",
   "execution_count": 3,
   "metadata": {},
   "outputs": [
    {
     "data": {
      "text/plain": [
       "[[], [0]]"
      ]
     },
     "execution_count": 3,
     "metadata": {},
     "output_type": "execute_result"
    }
   ],
   "source": [
    "# Example 2:\n",
    "Solution().subsets([0])"
   ]
  }
 ],
 "metadata": {
  "interpreter": {
   "hash": "133c87b6b8812a3a4a380e98a665449b9260b0e8d0510f3319cdf6c565fe871e"
  },
  "kernelspec": {
   "display_name": "Python 3.9.7 ('scrap')",
   "language": "python",
   "name": "python3"
  },
  "language_info": {
   "codemirror_mode": {
    "name": "ipython",
    "version": 3
   },
   "file_extension": ".py",
   "mimetype": "text/x-python",
   "name": "python",
   "nbconvert_exporter": "python",
   "pygments_lexer": "ipython3",
   "version": "3.9.7"
  },
  "orig_nbformat": 4
 },
 "nbformat": 4,
 "nbformat_minor": 2
}
